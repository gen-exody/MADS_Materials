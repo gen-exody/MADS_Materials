{
 "cells": [
  {
   "cell_type": "markdown",
   "metadata": {
    "deletable": false,
    "editable": false,
    "nbgrader": {
     "checksum": "302223f5ed554aa4d056b7b0578e005b",
     "grade": false,
     "grade_id": "cell-018440ed2f1b6a62",
     "locked": true,
     "schema_version": 1,
     "solution": false
    }
   },
   "source": [
    "# Assignment 3\n",
    "All questions are weighted the same in this assignment. This assignment requires more individual learning then the last one did - you are encouraged to check out the [pandas documentation](http://pandas.pydata.org/pandas-docs/stable/) to find functions or methods you might not have used yet, or ask questions on [Stack Overflow](http://stackoverflow.com/) and tag them as pandas and python related. All questions are worth the same number of points except question 1 which is worth 23% of the assignment grade.\n",
    "\n",
    "**Note**: Questions 2-12 rely on your question 1c answer."
   ]
  },
  {
   "cell_type": "code",
   "execution_count": 1,
   "metadata": {
    "deletable": false,
    "editable": false,
    "nbgrader": {
     "checksum": "af2e28ea37d73a373a93fcfaab14faad",
     "grade": false,
     "grade_id": "cell-a029e98a3ac63805",
     "locked": true,
     "schema_version": 1,
     "solution": false
    }
   },
   "outputs": [],
   "source": [
    "import re\n",
    "import pandas as pd\n",
    "import numpy as np\n",
    "\n",
    "# Filter all warnings. If you would like to see the warnings, please comment the two lines below.\n",
    "import warnings\n",
    "warnings.filterwarnings('ignore')"
   ]
  },
  {
   "cell_type": "markdown",
   "metadata": {
    "deletable": false,
    "editable": false,
    "nbgrader": {
     "checksum": "01d235b2d80a971a5a86cd6226600379",
     "grade": false,
     "grade_id": "cell-7e5190c7ff1f2e42",
     "locked": true,
     "schema_version": 1,
     "solution": false
    }
   },
   "source": [
    "### Question 1(a)\n",
    "\n",
    "Complete the function `load_data` below to load three datasets that we will use in subsequent questions. Be sure to follow the instructions below for each dataset *respectively*. \n",
    "\n",
    "\n",
    "\n",
    "**Energy**\n",
    "\n",
    "Load the energy data from the file `assets/Energy Indicators.xls`, which is a list of indicators of [energy supply and renewable electricity production](assets/Energy%20Indicators.xls) from the [United Nations](http://unstats.un.org/unsd/environment/excel_file_tables/2013/Energy%20Indicators.xls) for the year 2013, and should be put into a DataFrame with the variable name of `energy`.\n",
    "\n",
    "Keep in mind that this is an Excel file, and not a comma separated values file. Also, make sure to exclude the footer and header information from the datafile. The first two columns are unneccessary, so you should get rid of them, and you should change the column labels so that the columns are:\n",
    "\n",
    "`['Country', 'Energy Supply', 'Energy Supply per Capita', '% Renewable]`\n",
    "\n",
    "Convert `Energy Supply` to gigajoules (**Note: there are 1,000,000 gigajoules in a petajoule**). For all countries which have missing data (e.g. data with \"...\") make sure this is reflected as `np.NaN` values.\n",
    "\n",
    "Rename the following list of countries (for use in later questions):\n",
    "\n",
    "```\"Republic of Korea\": \"South Korea\",\n",
    "\"United States of America\": \"United States\",\n",
    "\"United Kingdom of Great Britain and Northern Ireland\": \"United Kingdom\",\n",
    "\"China, Hong Kong Special Administrative Region\": \"Hong Kong\"```\n",
    "\n",
    "There are also several countries with parenthesis in their name. Be sure to remove these, e.g. `'Bolivia (Plurinational State of)'` should be `'Bolivia'`.\n",
    "\n",
    "\n",
    "\n",
    "**GDP**\n",
    "\n",
    "Next, load the GDP data from the file `assets/world_bank.csv`, which is a csv containing countries' GDP from 1960 to 2015 from [World Bank](http://data.worldbank.org/indicator/NY.GDP.MKTP.CD). Call this DataFrame `gdp`. \n",
    "\n",
    "Make sure to skip the header, and rename the following list of countries:\n",
    "\n",
    "```\"Korea, Rep.\": \"South Korea\", \n",
    "\"Iran, Islamic Rep.\": \"Iran\",\n",
    "\"Hong Kong SAR, China\": \"Hong Kong\"```\n",
    "\n",
    "\n",
    "\n",
    "**ScimEn**\n",
    "\n",
    "Finally, load the [Sciamgo Journal and Country Rank data for Energy Engineering and Power Technology](http://www.scimagojr.com/countryrank.php?category=2102) from the file `assets/scimagojr-3.xlsx`, which ranks countries based on their journal contributions in the aforementioned area. Call this DataFrame `scim_en`.\n",
    "\n",
    "**For all three datasets, use country names as the index.**"
   ]
  },
  {
   "cell_type": "code",
   "execution_count": 2,
   "metadata": {
    "deletable": false,
    "nbgrader": {
     "checksum": "235a509ba6795e6bb23273c38faaaa67",
     "grade": false,
     "grade_id": "cell-85d6b39df17aa02f",
     "locked": false,
     "schema_version": 1,
     "solution": true
    }
   },
   "outputs": [
    {
     "data": {
      "text/plain": [
       "(                Energy Supply  Energy Supply per Capita  % Renewable\n",
       " Country                                                             \n",
       " Afghanistan      3.210000e+08                      10.0    78.669280\n",
       " Albania          1.020000e+08                      35.0   100.000000\n",
       " Algeria          1.959000e+09                      51.0     0.551010\n",
       " American Samoa            NaN                       NaN     0.641026\n",
       " Andorra          9.000000e+06                     121.0    88.695650\n",
       " ...                       ...                       ...          ...\n",
       " NaN                       NaN                       NaN          NaN\n",
       " NaN                       NaN                       NaN          NaN\n",
       " NaN                       NaN                       NaN          NaN\n",
       " NaN                       NaN                       NaN          NaN\n",
       " NaN                       NaN                       NaN          NaN\n",
       " \n",
       " [265 rows x 3 columns],\n",
       "                  Country Code                            Indicator Name  \\\n",
       " Country Name                                                              \n",
       " Aruba                     ABW  GDP at market prices (constant 2010 US$)   \n",
       " Andorra                   AND  GDP at market prices (constant 2010 US$)   \n",
       " Afghanistan               AFG  GDP at market prices (constant 2010 US$)   \n",
       " Angola                    AGO  GDP at market prices (constant 2010 US$)   \n",
       " Albania                   ALB  GDP at market prices (constant 2010 US$)   \n",
       " ...                       ...                                       ...   \n",
       " Yemen, Rep.               YEM  GDP at market prices (constant 2010 US$)   \n",
       " South Africa              ZAF  GDP at market prices (constant 2010 US$)   \n",
       " Congo, Dem. Rep.          COD  GDP at market prices (constant 2010 US$)   \n",
       " Zambia                    ZMB  GDP at market prices (constant 2010 US$)   \n",
       " Zimbabwe                  ZWE  GDP at market prices (constant 2010 US$)   \n",
       " \n",
       "                   Indicator Code          1960          1961          1962  \\\n",
       " Country Name                                                                 \n",
       " Aruba             NY.GDP.MKTP.KD           NaN           NaN           NaN   \n",
       " Andorra           NY.GDP.MKTP.KD           NaN           NaN           NaN   \n",
       " Afghanistan       NY.GDP.MKTP.KD           NaN           NaN           NaN   \n",
       " Angola            NY.GDP.MKTP.KD           NaN           NaN           NaN   \n",
       " Albania           NY.GDP.MKTP.KD           NaN           NaN           NaN   \n",
       " ...                          ...           ...           ...           ...   \n",
       " Yemen, Rep.       NY.GDP.MKTP.KD           NaN           NaN           NaN   \n",
       " South Africa      NY.GDP.MKTP.KD  7.707081e+10  8.003449e+10  8.497844e+10   \n",
       " Congo, Dem. Rep.  NY.GDP.MKTP.KD  1.508024e+10  1.344383e+10  1.629401e+10   \n",
       " Zambia            NY.GDP.MKTP.KD  4.592975e+09  4.655503e+09  4.539542e+09   \n",
       " Zimbabwe          NY.GDP.MKTP.KD  3.338344e+09  3.549199e+09  3.600111e+09   \n",
       " \n",
       "                           1963          1964          1965          1966  ...  \\\n",
       " Country Name                                                              ...   \n",
       " Aruba                      NaN           NaN           NaN           NaN  ...   \n",
       " Andorra                    NaN           NaN           NaN           NaN  ...   \n",
       " Afghanistan                NaN           NaN           NaN           NaN  ...   \n",
       " Angola                     NaN           NaN           NaN           NaN  ...   \n",
       " Albania                    NaN           NaN           NaN           NaN  ...   \n",
       " ...                        ...           ...           ...           ...  ...   \n",
       " Yemen, Rep.                NaN           NaN           NaN           NaN  ...   \n",
       " South Africa      9.124438e+10  9.848904e+10  1.072507e+11  1.120109e+11  ...   \n",
       " Congo, Dem. Rep.  1.714358e+10  1.672524e+10  1.689205e+10  1.803656e+10  ...   \n",
       " Zambia            4.688093e+09  5.260699e+09  6.136472e+09  5.794651e+09  ...   \n",
       " Zimbabwe          3.824915e+09  3.782605e+09  3.968352e+09  4.028795e+09  ...   \n",
       " \n",
       "                           2006          2007          2008          2009  \\\n",
       " Country Name                                                               \n",
       " Aruba                      NaN           NaN           NaN           NaN   \n",
       " Andorra           4.018196e+09  4.021331e+09  3.675728e+09  3.535389e+09   \n",
       " Afghanistan       1.030523e+10  1.172119e+10  1.214448e+10  1.469733e+10   \n",
       " Angola            5.581103e+10  6.842044e+10  7.787420e+10  7.975320e+10   \n",
       " Albania           9.771760e+09  1.034829e+10  1.112752e+10  1.150029e+10   \n",
       " ...                        ...           ...           ...           ...   \n",
       " Yemen, Rep.       2.672565e+10  2.761787e+10  2.872656e+10  2.991436e+10   \n",
       " South Africa      3.402852e+11  3.585261e+11  3.699668e+11  3.642764e+11   \n",
       " Congo, Dem. Rep.  1.650894e+10  1.754232e+10  1.863448e+10  1.916651e+10   \n",
       " Zambia            1.440569e+10  1.560892e+10  1.682234e+10  1.837342e+10   \n",
       " Zimbabwe          1.006276e+10  9.695130e+09  7.982103e+09  8.459783e+09   \n",
       " \n",
       "                           2010          2011          2012          2013  \\\n",
       " Country Name                                                               \n",
       " Aruba             2.467704e+09           NaN           NaN           NaN   \n",
       " Andorra           3.346317e+09  3.185605e+09  3.129538e+09  3.127550e+09   \n",
       " Afghanistan       1.593680e+10  1.691113e+10  1.935220e+10  1.973134e+10   \n",
       " Angola            8.247091e+10  8.570262e+10  9.012096e+10  9.626143e+10   \n",
       " Albania           1.192695e+10  1.223109e+10  1.240477e+10  1.254247e+10   \n",
       " ...                        ...           ...           ...           ...   \n",
       " Yemen, Rep.       3.090675e+10  2.624342e+10  2.689160e+10  2.800914e+10   \n",
       " South Africa      3.753494e+11  3.874074e+11  3.960071e+11  4.047682e+11   \n",
       " Congo, Dem. Rep.  2.052329e+10  2.193213e+10  2.350200e+10  2.550050e+10   \n",
       " Zambia            2.026555e+10  2.140358e+10  2.302438e+10  2.420595e+10   \n",
       " Zimbabwe          9.422161e+09  1.054391e+10  1.165789e+10  1.218064e+10   \n",
       " \n",
       "                           2014          2015  \n",
       " Country Name                                  \n",
       " Aruba                      NaN           NaN  \n",
       " Andorra                    NaN           NaN  \n",
       " Afghanistan       1.999032e+10  2.029415e+10  \n",
       " Angola            1.008863e+11  1.039106e+11  \n",
       " Albania           1.279331e+10  1.312082e+10  \n",
       " ...                        ...           ...  \n",
       " Yemen, Rep.                NaN           NaN  \n",
       " South Africa      4.110369e+11  4.163117e+11  \n",
       " Congo, Dem. Rep.  2.778776e+10  2.970961e+10  \n",
       " Zambia            2.542227e+10  2.624127e+10  \n",
       " Zimbabwe          1.264939e+10  1.278517e+10  \n",
       " \n",
       " [264 rows x 59 columns],\n",
       "                     Rank  Documents  Citable documents  Citations  \\\n",
       " Country                                                             \n",
       " China                  1     127050             126767     597237   \n",
       " United States          2      96661              94747     792274   \n",
       " Japan                  3      30504              30287     223024   \n",
       " United Kingdom         4      20944              20357     206091   \n",
       " Russian Federation     5      18534              18301      34266   \n",
       " ...                  ...        ...                ...        ...   \n",
       " Guyana               187          1                  1          0   \n",
       " Christmas Island     188          1                  1          0   \n",
       " Reunion              189          1                  1          2   \n",
       " Saint Lucia          190          1                  1          0   \n",
       " Mauritania           191          1                  1          1   \n",
       " \n",
       "                     Self-citations  Citations per document  H index  \n",
       " Country                                                              \n",
       " China                       411683                    4.70      138  \n",
       " United States               265436                    8.20      230  \n",
       " Japan                        61554                    7.31      134  \n",
       " United Kingdom               37874                    9.84      139  \n",
       " Russian Federation           12422                    1.85       57  \n",
       " ...                            ...                     ...      ...  \n",
       " Guyana                           0                    0.00        0  \n",
       " Christmas Island                 0                    0.00        0  \n",
       " Reunion                          1                    2.00        1  \n",
       " Saint Lucia                      0                    0.00        0  \n",
       " Mauritania                       0                    1.00        1  \n",
       " \n",
       " [191 rows x 7 columns])"
      ]
     },
     "execution_count": 2,
     "metadata": {},
     "output_type": "execute_result"
    }
   ],
   "source": [
    "import pandas as pd\n",
    "import numpy as np\n",
    "def load_data():\n",
    "    # Competency: reading files in Pandas, df manipulation, regex\n",
    "    \n",
    "    # The three variables are initialized to None. You will fill them with the correct values. \n",
    "    energy = pd.read_excel('assets/Energy Indicators.xls', skiprows = 17, skip_footer = 38, usecols = \"C:F\")\n",
    "    col_names = ['Country', 'Energy Supply', 'Energy Supply per Capita', '% Renewable']\n",
    "    # Rename the columns\n",
    "    energy.columns = col_names\n",
    "\n",
    "    # Convert Energy Supply to gigajoules (Note: there are 1,000,000 gigajoules in a petajoule). \n",
    "    # For all countries which have missing data (e.g. data with \"...\") make sure this is \n",
    "    # reflected as np.NaN values.\n",
    "    energy['Energy Supply'] *= 1000000\n",
    "    energy.replace('\\.+', np.nan, regex=True, inplace = True)\n",
    "\n",
    "    # Rename the following list of countries\n",
    "    replace_dict = {\"Republic of Korea\": \"South Korea\",\n",
    "                    \"United States of America\": \"United States\",\n",
    "                    \"United Kingdom of Great Britain and Northern Ireland\": \"United Kingdom\",\n",
    "                    \"China, Hong Kong Special Administrative Region\": \"Hong Kong\"}\n",
    "\n",
    "    # Removes digits and text enclosed in parantheses\n",
    "    energy['Country'] = energy['Country'].str.replace('\\d+','').str.replace('\\s*\\(.*?\\)\\s*', '').replace(replace_dict)\n",
    "    energy.set_index('Country', inplace = True)\n",
    "    \n",
    "    gdp = pd.read_csv('assets/world_bank.csv', sep = ',', skiprows = 4)\n",
    "\n",
    "    country_dict = {\"Korea, Rep.\": \"South Korea\", \n",
    "                    \"Iran, Islamic Rep.\": \"Iran\",\n",
    "                    \"Hong Kong SAR, China\": \"Hong Kong\"}\n",
    "\n",
    "    gdp['Country Name'] = gdp['Country Name'].replace(country_dict)\n",
    "    gdp = gdp.set_index('Country Name')\n",
    "    \n",
    "    scim_en = pd.read_excel('assets/scimagojr-3.xlsx')\n",
    "    scim_en.set_index('Country', inplace = True)\n",
    "    \n",
    "    return energy, gdp, scim_en\n",
    "load_data()"
   ]
  },
  {
   "cell_type": "code",
   "execution_count": 24,
   "metadata": {},
   "outputs": [
    {
     "data": {
      "text/plain": [
       "True"
      ]
     },
     "execution_count": 24,
     "metadata": {},
     "output_type": "execute_result"
    }
   ],
   "source": [
    "# energy, gdp, scim_en = load_data()\n",
    "# all([isinstance(energy, pd.DataFrame), isinstance(gdp, pd.DataFrame), isinstance(scim_en, pd.DataFrame)])"
   ]
  },
  {
   "cell_type": "code",
   "execution_count": null,
   "metadata": {
    "deletable": false,
    "editable": false,
    "nbgrader": {
     "checksum": "a992b43cb653cc675985e08781233940",
     "grade": true,
     "grade_id": "cell-ece042ccd621104a",
     "locked": true,
     "points": 13,
     "schema_version": 1,
     "solution": false
    }
   },
   "outputs": [],
   "source": [
    "# Cell for autograder.\n"
   ]
  },
  {
   "cell_type": "markdown",
   "metadata": {
    "deletable": false,
    "editable": false,
    "nbgrader": {
     "checksum": "13aefc04477149e949f0e66c164fe27f",
     "grade": false,
     "grade_id": "cell-babe0ff2a1fc6b17",
     "locked": true,
     "schema_version": 1,
     "solution": false
    }
   },
   "source": [
    "### Question 1(b)\n",
    "\n",
    "Now suppose we take the intersection of the three datasets based on the country names, how many *unique* entries will we lose? Complete the function below that returns the answer as a single number. The Venn diagram in the next cell is worth a thousand words. \n",
    "\n",
    "*This function should return a single (whole) number.*"
   ]
  },
  {
   "cell_type": "code",
   "execution_count": 26,
   "metadata": {
    "deletable": false,
    "editable": false,
    "nbgrader": {
     "checksum": "c9a34da81c80126fd23ae2eac33f98f8",
     "grade": false,
     "grade_id": "cell-96f84e7b693bef63",
     "locked": true,
     "schema_version": 1,
     "solution": false
    }
   },
   "outputs": [
    {
     "data": {
      "text/html": [
       "<svg width=\"800\" height=\"300\">\n",
       "  <circle cx=\"150\" cy=\"180\" r=\"80\" fill-opacity=\"0.2\" stroke=\"black\" stroke-width=\"2\" fill=\"blue\" />\n",
       "  <circle cx=\"200\" cy=\"100\" r=\"80\" fill-opacity=\"0.2\" stroke=\"black\" stroke-width=\"2\" fill=\"red\" />\n",
       "  <circle cx=\"100\" cy=\"100\" r=\"80\" fill-opacity=\"0.2\" stroke=\"black\" stroke-width=\"2\" fill=\"green\" />\n",
       "  <line x1=\"150\" y1=\"125\" x2=\"300\" y2=\"150\" stroke=\"black\" stroke-width=\"2\" fill=\"black\" stroke-dasharray=\"5,3\"/>\n",
       "  <text x=\"300\" y=\"165\" font-family=\"Verdana\" font-size=\"35\">Everything but this!</text>\n",
       "</svg>\n"
      ],
      "text/plain": [
       "<IPython.core.display.HTML object>"
      ]
     },
     "metadata": {},
     "output_type": "display_data"
    }
   ],
   "source": [
    "%%HTML\n",
    "<svg width=\"800\" height=\"300\">\n",
    "  <circle cx=\"150\" cy=\"180\" r=\"80\" fill-opacity=\"0.2\" stroke=\"black\" stroke-width=\"2\" fill=\"blue\" />\n",
    "  <circle cx=\"200\" cy=\"100\" r=\"80\" fill-opacity=\"0.2\" stroke=\"black\" stroke-width=\"2\" fill=\"red\" />\n",
    "  <circle cx=\"100\" cy=\"100\" r=\"80\" fill-opacity=\"0.2\" stroke=\"black\" stroke-width=\"2\" fill=\"green\" />\n",
    "  <line x1=\"150\" y1=\"125\" x2=\"300\" y2=\"150\" stroke=\"black\" stroke-width=\"2\" fill=\"black\" stroke-dasharray=\"5,3\"/>\n",
    "  <text x=\"300\" y=\"165\" font-family=\"Verdana\" font-size=\"35\">Everything but this!</text>\n",
    "</svg>"
   ]
  },
  {
   "cell_type": "code",
   "execution_count": 3,
   "metadata": {
    "deletable": false,
    "nbgrader": {
     "checksum": "6fcbb7a7b94b9f1a1bd069595d1cbdef",
     "grade": false,
     "grade_id": "cell-b0c3202c000aada4",
     "locked": false,
     "schema_version": 1,
     "solution": true
    }
   },
   "outputs": [
    {
     "data": {
      "text/plain": [
       "194"
      ]
     },
     "execution_count": 3,
     "metadata": {},
     "output_type": "execute_result"
    }
   ],
   "source": [
    "def answer_1b():\n",
    "    # Competency: joining datasets, sets\n",
    "    # YOUR CODE HERE\n",
    "    energy, gdp, scim_en = load_data()\n",
    "    intersect = pd.merge(pd.merge(scim_en, energy, how = 'inner', left_index = True, right_index = True), gdp, how = 'inner', left_index = True, right_index = True)\n",
    "    # Python Pandas Dataframe merge and pick only few columns\n",
    "    #merged = pd.merge(merged, gdp[['2006', '2007', '2008', '2009', '2010', '2011', '2012', '2013', '2014', '2015']], how = 'inner', left_index = True, right_index = True)\n",
    "    \n",
    "    merged_outer = pd.merge(pd.merge(scim_en, energy, how = 'outer', left_index = True, right_index = True), gdp, how = 'outer', left_index = True, right_index = True)\n",
    "    # Python Pandas Dataframe merge and pick only few columns\n",
    "    #merged_outer = pd.merge(merged, gdp[['2006', '2007', '2008', '2009', '2010', '2011', '2012', '2013', '2014', '2015']], how = 'left', left_index = True, right_index = True)\n",
    "\n",
    "    return len(merged_outer) - len(intersect)\n",
    "    #raise NotImplementedError()\n",
    "answer_1b()"
   ]
  },
  {
   "cell_type": "code",
   "execution_count": null,
   "metadata": {
    "deletable": false,
    "editable": false,
    "nbgrader": {
     "checksum": "0379f5de7f3cb42332245d87bb02de6e",
     "grade": true,
     "grade_id": "cell-c97ee66ccdccb430",
     "locked": true,
     "points": 5,
     "schema_version": 1,
     "solution": false
    }
   },
   "outputs": [],
   "source": [
    "# Cell for autograder.\n"
   ]
  },
  {
   "cell_type": "markdown",
   "metadata": {
    "deletable": false,
    "editable": false,
    "nbgrader": {
     "checksum": "cb5ed9de733cc73c3e80dab91fda9827",
     "grade": false,
     "grade_id": "cell-89d80693491a3d33",
     "locked": true,
     "schema_version": 1,
     "solution": false
    }
   },
   "source": [
    "### Question 1(c)\n",
    "\n",
    "Join the three datasets to form a new dataset, using the intersection of country names. Keep only the last 10 years (2006-2015) of GDP data and only the top 15 countries by Scimagojr 'Rank' (Rank 1 through 15). \n",
    "\n",
    "The index of the resultant DataFrame should still be the name of the country, and the columns should be \n",
    "\n",
    "```['Rank', 'Documents', 'Citable documents', 'Citations', 'Self-citations',\n",
    "    'Citations per document', 'H index', 'Energy Supply',\n",
    "    'Energy Supply per Capita', '% Renewable', '2006', '2007', '2008',\n",
    "    '2009', '2010', '2011', '2012', '2013', '2014', '2015']```.\n",
    "\n",
    "*This function should return a DataFrame with 20 columns and 15 entries.*"
   ]
  },
  {
   "cell_type": "code",
   "execution_count": 4,
   "metadata": {
    "deletable": false,
    "nbgrader": {
     "checksum": "bd3ea9a6dbc44f951fc1cf8a99086281",
     "grade": false,
     "grade_id": "cell-bce4d6f2ecdd1297",
     "locked": false,
     "schema_version": 1,
     "solution": true
    }
   },
   "outputs": [
    {
     "data": {
      "text/html": [
       "<div>\n",
       "<style scoped>\n",
       "    .dataframe tbody tr th:only-of-type {\n",
       "        vertical-align: middle;\n",
       "    }\n",
       "\n",
       "    .dataframe tbody tr th {\n",
       "        vertical-align: top;\n",
       "    }\n",
       "\n",
       "    .dataframe thead th {\n",
       "        text-align: right;\n",
       "    }\n",
       "</style>\n",
       "<table border=\"1\" class=\"dataframe\">\n",
       "  <thead>\n",
       "    <tr style=\"text-align: right;\">\n",
       "      <th></th>\n",
       "      <th>Rank</th>\n",
       "      <th>Documents</th>\n",
       "      <th>Citable documents</th>\n",
       "      <th>Citations</th>\n",
       "      <th>Self-citations</th>\n",
       "      <th>Citations per document</th>\n",
       "      <th>H index</th>\n",
       "      <th>Energy Supply</th>\n",
       "      <th>Energy Supply per Capita</th>\n",
       "      <th>% Renewable</th>\n",
       "      <th>2006</th>\n",
       "      <th>2007</th>\n",
       "      <th>2008</th>\n",
       "      <th>2009</th>\n",
       "      <th>2010</th>\n",
       "      <th>2011</th>\n",
       "      <th>2012</th>\n",
       "      <th>2013</th>\n",
       "      <th>2014</th>\n",
       "      <th>2015</th>\n",
       "    </tr>\n",
       "    <tr>\n",
       "      <th>Country</th>\n",
       "      <th></th>\n",
       "      <th></th>\n",
       "      <th></th>\n",
       "      <th></th>\n",
       "      <th></th>\n",
       "      <th></th>\n",
       "      <th></th>\n",
       "      <th></th>\n",
       "      <th></th>\n",
       "      <th></th>\n",
       "      <th></th>\n",
       "      <th></th>\n",
       "      <th></th>\n",
       "      <th></th>\n",
       "      <th></th>\n",
       "      <th></th>\n",
       "      <th></th>\n",
       "      <th></th>\n",
       "      <th></th>\n",
       "      <th></th>\n",
       "    </tr>\n",
       "  </thead>\n",
       "  <tbody>\n",
       "    <tr>\n",
       "      <th>Australia</th>\n",
       "      <td>14</td>\n",
       "      <td>8831</td>\n",
       "      <td>8725</td>\n",
       "      <td>90765</td>\n",
       "      <td>15606</td>\n",
       "      <td>10.28</td>\n",
       "      <td>107</td>\n",
       "      <td>5.386000e+09</td>\n",
       "      <td>231.0</td>\n",
       "      <td>11.810810</td>\n",
       "      <td>1.021939e+12</td>\n",
       "      <td>1.060340e+12</td>\n",
       "      <td>1.099644e+12</td>\n",
       "      <td>1.119654e+12</td>\n",
       "      <td>1.142251e+12</td>\n",
       "      <td>1.169431e+12</td>\n",
       "      <td>1.211913e+12</td>\n",
       "      <td>1.241484e+12</td>\n",
       "      <td>1.272520e+12</td>\n",
       "      <td>1.301251e+12</td>\n",
       "    </tr>\n",
       "    <tr>\n",
       "      <th>Brazil</th>\n",
       "      <td>15</td>\n",
       "      <td>8668</td>\n",
       "      <td>8596</td>\n",
       "      <td>60702</td>\n",
       "      <td>14396</td>\n",
       "      <td>7.00</td>\n",
       "      <td>86</td>\n",
       "      <td>1.214900e+10</td>\n",
       "      <td>59.0</td>\n",
       "      <td>69.648030</td>\n",
       "      <td>1.845080e+12</td>\n",
       "      <td>1.957118e+12</td>\n",
       "      <td>2.056809e+12</td>\n",
       "      <td>2.054215e+12</td>\n",
       "      <td>2.208872e+12</td>\n",
       "      <td>2.295245e+12</td>\n",
       "      <td>2.339209e+12</td>\n",
       "      <td>2.409740e+12</td>\n",
       "      <td>2.412231e+12</td>\n",
       "      <td>2.319423e+12</td>\n",
       "    </tr>\n",
       "    <tr>\n",
       "      <th>Canada</th>\n",
       "      <td>6</td>\n",
       "      <td>17899</td>\n",
       "      <td>17620</td>\n",
       "      <td>215003</td>\n",
       "      <td>40930</td>\n",
       "      <td>12.01</td>\n",
       "      <td>149</td>\n",
       "      <td>1.043100e+10</td>\n",
       "      <td>296.0</td>\n",
       "      <td>61.945430</td>\n",
       "      <td>1.564469e+12</td>\n",
       "      <td>1.596740e+12</td>\n",
       "      <td>1.612713e+12</td>\n",
       "      <td>1.565145e+12</td>\n",
       "      <td>1.613406e+12</td>\n",
       "      <td>1.664087e+12</td>\n",
       "      <td>1.693133e+12</td>\n",
       "      <td>1.730688e+12</td>\n",
       "      <td>1.773486e+12</td>\n",
       "      <td>1.792609e+12</td>\n",
       "    </tr>\n",
       "    <tr>\n",
       "      <th>China</th>\n",
       "      <td>1</td>\n",
       "      <td>127050</td>\n",
       "      <td>126767</td>\n",
       "      <td>597237</td>\n",
       "      <td>411683</td>\n",
       "      <td>4.70</td>\n",
       "      <td>138</td>\n",
       "      <td>1.271910e+11</td>\n",
       "      <td>93.0</td>\n",
       "      <td>19.754910</td>\n",
       "      <td>3.992331e+12</td>\n",
       "      <td>4.559041e+12</td>\n",
       "      <td>4.997775e+12</td>\n",
       "      <td>5.459247e+12</td>\n",
       "      <td>6.039659e+12</td>\n",
       "      <td>6.612490e+12</td>\n",
       "      <td>7.124978e+12</td>\n",
       "      <td>7.672448e+12</td>\n",
       "      <td>8.230121e+12</td>\n",
       "      <td>8.797999e+12</td>\n",
       "    </tr>\n",
       "    <tr>\n",
       "      <th>France</th>\n",
       "      <td>9</td>\n",
       "      <td>13153</td>\n",
       "      <td>12973</td>\n",
       "      <td>130632</td>\n",
       "      <td>28601</td>\n",
       "      <td>9.93</td>\n",
       "      <td>114</td>\n",
       "      <td>1.059700e+10</td>\n",
       "      <td>166.0</td>\n",
       "      <td>17.020280</td>\n",
       "      <td>2.607840e+12</td>\n",
       "      <td>2.669424e+12</td>\n",
       "      <td>2.674637e+12</td>\n",
       "      <td>2.595967e+12</td>\n",
       "      <td>2.646995e+12</td>\n",
       "      <td>2.702032e+12</td>\n",
       "      <td>2.706968e+12</td>\n",
       "      <td>2.722567e+12</td>\n",
       "      <td>2.729632e+12</td>\n",
       "      <td>2.761185e+12</td>\n",
       "    </tr>\n",
       "    <tr>\n",
       "      <th>Germany</th>\n",
       "      <td>7</td>\n",
       "      <td>17027</td>\n",
       "      <td>16831</td>\n",
       "      <td>140566</td>\n",
       "      <td>27426</td>\n",
       "      <td>8.26</td>\n",
       "      <td>126</td>\n",
       "      <td>1.326100e+10</td>\n",
       "      <td>165.0</td>\n",
       "      <td>17.901530</td>\n",
       "      <td>3.332891e+12</td>\n",
       "      <td>3.441561e+12</td>\n",
       "      <td>3.478809e+12</td>\n",
       "      <td>3.283340e+12</td>\n",
       "      <td>3.417298e+12</td>\n",
       "      <td>3.542371e+12</td>\n",
       "      <td>3.556724e+12</td>\n",
       "      <td>3.567317e+12</td>\n",
       "      <td>3.624386e+12</td>\n",
       "      <td>3.685556e+12</td>\n",
       "    </tr>\n",
       "    <tr>\n",
       "      <th>India</th>\n",
       "      <td>8</td>\n",
       "      <td>15005</td>\n",
       "      <td>14841</td>\n",
       "      <td>128763</td>\n",
       "      <td>37209</td>\n",
       "      <td>8.58</td>\n",
       "      <td>115</td>\n",
       "      <td>3.319500e+10</td>\n",
       "      <td>26.0</td>\n",
       "      <td>14.969080</td>\n",
       "      <td>1.265894e+12</td>\n",
       "      <td>1.374865e+12</td>\n",
       "      <td>1.428361e+12</td>\n",
       "      <td>1.549483e+12</td>\n",
       "      <td>1.708459e+12</td>\n",
       "      <td>1.821872e+12</td>\n",
       "      <td>1.924235e+12</td>\n",
       "      <td>2.051982e+12</td>\n",
       "      <td>2.200617e+12</td>\n",
       "      <td>2.367206e+12</td>\n",
       "    </tr>\n",
       "    <tr>\n",
       "      <th>Iran</th>\n",
       "      <td>13</td>\n",
       "      <td>8896</td>\n",
       "      <td>8819</td>\n",
       "      <td>57470</td>\n",
       "      <td>19125</td>\n",
       "      <td>6.46</td>\n",
       "      <td>72</td>\n",
       "      <td>9.172000e+09</td>\n",
       "      <td>119.0</td>\n",
       "      <td>5.707721</td>\n",
       "      <td>3.895523e+11</td>\n",
       "      <td>4.250646e+11</td>\n",
       "      <td>4.289909e+11</td>\n",
       "      <td>4.389208e+11</td>\n",
       "      <td>4.677902e+11</td>\n",
       "      <td>4.853309e+11</td>\n",
       "      <td>4.532569e+11</td>\n",
       "      <td>4.445926e+11</td>\n",
       "      <td>4.639027e+11</td>\n",
       "      <td>NaN</td>\n",
       "    </tr>\n",
       "    <tr>\n",
       "      <th>Italy</th>\n",
       "      <td>11</td>\n",
       "      <td>10964</td>\n",
       "      <td>10794</td>\n",
       "      <td>111850</td>\n",
       "      <td>26661</td>\n",
       "      <td>10.20</td>\n",
       "      <td>106</td>\n",
       "      <td>6.530000e+09</td>\n",
       "      <td>109.0</td>\n",
       "      <td>33.667230</td>\n",
       "      <td>2.202170e+12</td>\n",
       "      <td>2.234627e+12</td>\n",
       "      <td>2.211154e+12</td>\n",
       "      <td>2.089938e+12</td>\n",
       "      <td>2.125185e+12</td>\n",
       "      <td>2.137439e+12</td>\n",
       "      <td>2.077184e+12</td>\n",
       "      <td>2.040871e+12</td>\n",
       "      <td>2.033868e+12</td>\n",
       "      <td>2.049316e+12</td>\n",
       "    </tr>\n",
       "    <tr>\n",
       "      <th>Japan</th>\n",
       "      <td>3</td>\n",
       "      <td>30504</td>\n",
       "      <td>30287</td>\n",
       "      <td>223024</td>\n",
       "      <td>61554</td>\n",
       "      <td>7.31</td>\n",
       "      <td>134</td>\n",
       "      <td>1.898400e+10</td>\n",
       "      <td>149.0</td>\n",
       "      <td>10.232820</td>\n",
       "      <td>5.496542e+12</td>\n",
       "      <td>5.617036e+12</td>\n",
       "      <td>5.558527e+12</td>\n",
       "      <td>5.251308e+12</td>\n",
       "      <td>5.498718e+12</td>\n",
       "      <td>5.473738e+12</td>\n",
       "      <td>5.569102e+12</td>\n",
       "      <td>5.644659e+12</td>\n",
       "      <td>5.642884e+12</td>\n",
       "      <td>5.669563e+12</td>\n",
       "    </tr>\n",
       "    <tr>\n",
       "      <th>Russian Federation</th>\n",
       "      <td>5</td>\n",
       "      <td>18534</td>\n",
       "      <td>18301</td>\n",
       "      <td>34266</td>\n",
       "      <td>12422</td>\n",
       "      <td>1.85</td>\n",
       "      <td>57</td>\n",
       "      <td>3.070900e+10</td>\n",
       "      <td>214.0</td>\n",
       "      <td>17.288680</td>\n",
       "      <td>1.385793e+12</td>\n",
       "      <td>1.504071e+12</td>\n",
       "      <td>1.583004e+12</td>\n",
       "      <td>1.459199e+12</td>\n",
       "      <td>1.524917e+12</td>\n",
       "      <td>1.589943e+12</td>\n",
       "      <td>1.645876e+12</td>\n",
       "      <td>1.666934e+12</td>\n",
       "      <td>1.678709e+12</td>\n",
       "      <td>1.616149e+12</td>\n",
       "    </tr>\n",
       "    <tr>\n",
       "      <th>South Korea</th>\n",
       "      <td>10</td>\n",
       "      <td>11983</td>\n",
       "      <td>11923</td>\n",
       "      <td>114675</td>\n",
       "      <td>22595</td>\n",
       "      <td>9.57</td>\n",
       "      <td>104</td>\n",
       "      <td>1.100700e+10</td>\n",
       "      <td>221.0</td>\n",
       "      <td>2.279353</td>\n",
       "      <td>9.410199e+11</td>\n",
       "      <td>9.924316e+11</td>\n",
       "      <td>1.020510e+12</td>\n",
       "      <td>1.027730e+12</td>\n",
       "      <td>1.094499e+12</td>\n",
       "      <td>1.134796e+12</td>\n",
       "      <td>1.160809e+12</td>\n",
       "      <td>1.194429e+12</td>\n",
       "      <td>1.234340e+12</td>\n",
       "      <td>1.266580e+12</td>\n",
       "    </tr>\n",
       "    <tr>\n",
       "      <th>Spain</th>\n",
       "      <td>12</td>\n",
       "      <td>9428</td>\n",
       "      <td>9330</td>\n",
       "      <td>123336</td>\n",
       "      <td>23964</td>\n",
       "      <td>13.08</td>\n",
       "      <td>115</td>\n",
       "      <td>4.923000e+09</td>\n",
       "      <td>106.0</td>\n",
       "      <td>37.968590</td>\n",
       "      <td>1.414823e+12</td>\n",
       "      <td>1.468146e+12</td>\n",
       "      <td>1.484530e+12</td>\n",
       "      <td>1.431475e+12</td>\n",
       "      <td>1.431673e+12</td>\n",
       "      <td>1.417355e+12</td>\n",
       "      <td>1.380216e+12</td>\n",
       "      <td>1.357139e+12</td>\n",
       "      <td>1.375605e+12</td>\n",
       "      <td>1.419821e+12</td>\n",
       "    </tr>\n",
       "    <tr>\n",
       "      <th>United Kingdom</th>\n",
       "      <td>4</td>\n",
       "      <td>20944</td>\n",
       "      <td>20357</td>\n",
       "      <td>206091</td>\n",
       "      <td>37874</td>\n",
       "      <td>9.84</td>\n",
       "      <td>139</td>\n",
       "      <td>7.920000e+09</td>\n",
       "      <td>124.0</td>\n",
       "      <td>10.600470</td>\n",
       "      <td>2.419631e+12</td>\n",
       "      <td>2.482203e+12</td>\n",
       "      <td>2.470614e+12</td>\n",
       "      <td>2.367048e+12</td>\n",
       "      <td>2.403504e+12</td>\n",
       "      <td>2.450911e+12</td>\n",
       "      <td>2.479809e+12</td>\n",
       "      <td>2.533370e+12</td>\n",
       "      <td>2.605643e+12</td>\n",
       "      <td>2.666333e+12</td>\n",
       "    </tr>\n",
       "    <tr>\n",
       "      <th>United States</th>\n",
       "      <td>2</td>\n",
       "      <td>96661</td>\n",
       "      <td>94747</td>\n",
       "      <td>792274</td>\n",
       "      <td>265436</td>\n",
       "      <td>8.20</td>\n",
       "      <td>230</td>\n",
       "      <td>9.083800e+10</td>\n",
       "      <td>286.0</td>\n",
       "      <td>11.570980</td>\n",
       "      <td>1.479230e+13</td>\n",
       "      <td>1.505540e+13</td>\n",
       "      <td>1.501149e+13</td>\n",
       "      <td>1.459484e+13</td>\n",
       "      <td>1.496437e+13</td>\n",
       "      <td>1.520402e+13</td>\n",
       "      <td>1.554216e+13</td>\n",
       "      <td>1.577367e+13</td>\n",
       "      <td>1.615662e+13</td>\n",
       "      <td>1.654857e+13</td>\n",
       "    </tr>\n",
       "  </tbody>\n",
       "</table>\n",
       "</div>"
      ],
      "text/plain": [
       "                    Rank  Documents  Citable documents  Citations  \\\n",
       "Country                                                             \n",
       "Australia             14       8831               8725      90765   \n",
       "Brazil                15       8668               8596      60702   \n",
       "Canada                 6      17899              17620     215003   \n",
       "China                  1     127050             126767     597237   \n",
       "France                 9      13153              12973     130632   \n",
       "Germany                7      17027              16831     140566   \n",
       "India                  8      15005              14841     128763   \n",
       "Iran                  13       8896               8819      57470   \n",
       "Italy                 11      10964              10794     111850   \n",
       "Japan                  3      30504              30287     223024   \n",
       "Russian Federation     5      18534              18301      34266   \n",
       "South Korea           10      11983              11923     114675   \n",
       "Spain                 12       9428               9330     123336   \n",
       "United Kingdom         4      20944              20357     206091   \n",
       "United States          2      96661              94747     792274   \n",
       "\n",
       "                    Self-citations  Citations per document  H index  \\\n",
       "Country                                                               \n",
       "Australia                    15606                   10.28      107   \n",
       "Brazil                       14396                    7.00       86   \n",
       "Canada                       40930                   12.01      149   \n",
       "China                       411683                    4.70      138   \n",
       "France                       28601                    9.93      114   \n",
       "Germany                      27426                    8.26      126   \n",
       "India                        37209                    8.58      115   \n",
       "Iran                         19125                    6.46       72   \n",
       "Italy                        26661                   10.20      106   \n",
       "Japan                        61554                    7.31      134   \n",
       "Russian Federation           12422                    1.85       57   \n",
       "South Korea                  22595                    9.57      104   \n",
       "Spain                        23964                   13.08      115   \n",
       "United Kingdom               37874                    9.84      139   \n",
       "United States               265436                    8.20      230   \n",
       "\n",
       "                    Energy Supply  Energy Supply per Capita  % Renewable  \\\n",
       "Country                                                                    \n",
       "Australia            5.386000e+09                     231.0    11.810810   \n",
       "Brazil               1.214900e+10                      59.0    69.648030   \n",
       "Canada               1.043100e+10                     296.0    61.945430   \n",
       "China                1.271910e+11                      93.0    19.754910   \n",
       "France               1.059700e+10                     166.0    17.020280   \n",
       "Germany              1.326100e+10                     165.0    17.901530   \n",
       "India                3.319500e+10                      26.0    14.969080   \n",
       "Iran                 9.172000e+09                     119.0     5.707721   \n",
       "Italy                6.530000e+09                     109.0    33.667230   \n",
       "Japan                1.898400e+10                     149.0    10.232820   \n",
       "Russian Federation   3.070900e+10                     214.0    17.288680   \n",
       "South Korea          1.100700e+10                     221.0     2.279353   \n",
       "Spain                4.923000e+09                     106.0    37.968590   \n",
       "United Kingdom       7.920000e+09                     124.0    10.600470   \n",
       "United States        9.083800e+10                     286.0    11.570980   \n",
       "\n",
       "                            2006          2007          2008          2009  \\\n",
       "Country                                                                      \n",
       "Australia           1.021939e+12  1.060340e+12  1.099644e+12  1.119654e+12   \n",
       "Brazil              1.845080e+12  1.957118e+12  2.056809e+12  2.054215e+12   \n",
       "Canada              1.564469e+12  1.596740e+12  1.612713e+12  1.565145e+12   \n",
       "China               3.992331e+12  4.559041e+12  4.997775e+12  5.459247e+12   \n",
       "France              2.607840e+12  2.669424e+12  2.674637e+12  2.595967e+12   \n",
       "Germany             3.332891e+12  3.441561e+12  3.478809e+12  3.283340e+12   \n",
       "India               1.265894e+12  1.374865e+12  1.428361e+12  1.549483e+12   \n",
       "Iran                3.895523e+11  4.250646e+11  4.289909e+11  4.389208e+11   \n",
       "Italy               2.202170e+12  2.234627e+12  2.211154e+12  2.089938e+12   \n",
       "Japan               5.496542e+12  5.617036e+12  5.558527e+12  5.251308e+12   \n",
       "Russian Federation  1.385793e+12  1.504071e+12  1.583004e+12  1.459199e+12   \n",
       "South Korea         9.410199e+11  9.924316e+11  1.020510e+12  1.027730e+12   \n",
       "Spain               1.414823e+12  1.468146e+12  1.484530e+12  1.431475e+12   \n",
       "United Kingdom      2.419631e+12  2.482203e+12  2.470614e+12  2.367048e+12   \n",
       "United States       1.479230e+13  1.505540e+13  1.501149e+13  1.459484e+13   \n",
       "\n",
       "                            2010          2011          2012          2013  \\\n",
       "Country                                                                      \n",
       "Australia           1.142251e+12  1.169431e+12  1.211913e+12  1.241484e+12   \n",
       "Brazil              2.208872e+12  2.295245e+12  2.339209e+12  2.409740e+12   \n",
       "Canada              1.613406e+12  1.664087e+12  1.693133e+12  1.730688e+12   \n",
       "China               6.039659e+12  6.612490e+12  7.124978e+12  7.672448e+12   \n",
       "France              2.646995e+12  2.702032e+12  2.706968e+12  2.722567e+12   \n",
       "Germany             3.417298e+12  3.542371e+12  3.556724e+12  3.567317e+12   \n",
       "India               1.708459e+12  1.821872e+12  1.924235e+12  2.051982e+12   \n",
       "Iran                4.677902e+11  4.853309e+11  4.532569e+11  4.445926e+11   \n",
       "Italy               2.125185e+12  2.137439e+12  2.077184e+12  2.040871e+12   \n",
       "Japan               5.498718e+12  5.473738e+12  5.569102e+12  5.644659e+12   \n",
       "Russian Federation  1.524917e+12  1.589943e+12  1.645876e+12  1.666934e+12   \n",
       "South Korea         1.094499e+12  1.134796e+12  1.160809e+12  1.194429e+12   \n",
       "Spain               1.431673e+12  1.417355e+12  1.380216e+12  1.357139e+12   \n",
       "United Kingdom      2.403504e+12  2.450911e+12  2.479809e+12  2.533370e+12   \n",
       "United States       1.496437e+13  1.520402e+13  1.554216e+13  1.577367e+13   \n",
       "\n",
       "                            2014          2015  \n",
       "Country                                         \n",
       "Australia           1.272520e+12  1.301251e+12  \n",
       "Brazil              2.412231e+12  2.319423e+12  \n",
       "Canada              1.773486e+12  1.792609e+12  \n",
       "China               8.230121e+12  8.797999e+12  \n",
       "France              2.729632e+12  2.761185e+12  \n",
       "Germany             3.624386e+12  3.685556e+12  \n",
       "India               2.200617e+12  2.367206e+12  \n",
       "Iran                4.639027e+11           NaN  \n",
       "Italy               2.033868e+12  2.049316e+12  \n",
       "Japan               5.642884e+12  5.669563e+12  \n",
       "Russian Federation  1.678709e+12  1.616149e+12  \n",
       "South Korea         1.234340e+12  1.266580e+12  \n",
       "Spain               1.375605e+12  1.419821e+12  \n",
       "United Kingdom      2.605643e+12  2.666333e+12  \n",
       "United States       1.615662e+13  1.654857e+13  "
      ]
     },
     "execution_count": 4,
     "metadata": {},
     "output_type": "execute_result"
    }
   ],
   "source": [
    "def answer_1c():\n",
    "    # Competency: df manipulation, joining datasets\n",
    "    energy, gdp, scim_en = load_data()\n",
    "    # YOUR CODE HERE\n",
    "    scim_en = scim_en[scim_en['Rank'] <=15]\n",
    "    merged = pd.merge(scim_en, energy, how = 'left', left_index = True, right_index = True)\n",
    "    # Python Pandas Dataframe merge and pick only few columns\n",
    "    merged = pd.merge(merged, gdp[['2006', '2007', '2008', '2009', '2010', '2011', '2012', '2013', '2014', '2015']], how = 'left', left_index = True, right_index = True)\n",
    "    # The index of this DataFrame should be the name of the country, \n",
    "    # and the columns should be \n",
    "    #['Rank', 'Documents', 'Citable documents', 'Citations', 'Self-citations', 'Citations per document', 'H index', 'Energy Supply', 'Energy Supply per Capita', '% Renewable', '2006', '2007', '2008', '2009', '2010', '2011', '2012', '2013', '2014', '2015'].\n",
    "    #merged = merged.set_index('Country')\n",
    "    return merged\n",
    "    #raise NotImplementedError()\n",
    "answer_1c()"
   ]
  },
  {
   "cell_type": "code",
   "execution_count": 35,
   "metadata": {
    "deletable": false,
    "editable": false,
    "nbgrader": {
     "checksum": "dd29102d4d0ae9c48ef5bb2244a41c48",
     "grade": false,
     "grade_id": "cell-05d71142b33e030f",
     "locked": true,
     "schema_version": 1,
     "solution": false
    }
   },
   "outputs": [],
   "source": [
    "your_ans = answer_1c()\n",
    "\n",
    "assert isinstance(your_ans, pd.DataFrame), \"Q1c: Your function should return a DataFrame.\"\n",
    "\n",
    "assert your_ans.shape == (15, 20), \"Q1c: Your resultant DataFrame should have 20 columns and 15 entries.\"\n",
    "\n",
    "assert list(your_ans.columns) == ['Rank', 'Documents', 'Citable documents', 'Citations', 'Self-citations',\n",
    "                                 'Citations per document', 'H index', 'Energy Supply','Energy Supply per Capita', '% Renewable', \n",
    "                                 '2006', '2007', '2008','2009', '2010', '2011', '2012', '2013', '2014', '2015'] , \"Q1c: The column names should be as specified in the question. \"\n",
    "del your_ans"
   ]
  },
  {
   "cell_type": "code",
   "execution_count": null,
   "metadata": {
    "deletable": false,
    "editable": false,
    "nbgrader": {
     "checksum": "6fcf266c211b7a6ee1648cf01708e55d",
     "grade": true,
     "grade_id": "cell-780b5a4da845dbc3",
     "locked": true,
     "points": 5,
     "schema_version": 1,
     "solution": false
    }
   },
   "outputs": [],
   "source": [
    "# Cell for autograder.\n"
   ]
  },
  {
   "cell_type": "markdown",
   "metadata": {
    "deletable": false,
    "editable": false,
    "nbgrader": {
     "checksum": "97b1447d5ddcf8cc408fce98b0ad2583",
     "grade": false,
     "grade_id": "cell-d089e6c2d9dbaa29",
     "locked": true,
     "schema_version": 1,
     "solution": false
    }
   },
   "source": [
    "**Note: all subsequent questions rely on the DataFrame returned by your function in Question 1(c) above.**"
   ]
  },
  {
   "cell_type": "markdown",
   "metadata": {
    "deletable": false,
    "editable": false,
    "nbgrader": {
     "checksum": "00569f704ee0648898ec1e8c1e608111",
     "grade": false,
     "grade_id": "cell-2e54816014e48c18",
     "locked": true,
     "schema_version": 1,
     "solution": false
    }
   },
   "source": [
    "### Question 2\n",
    "What is the average GDP over the last 10 years for each country?\n",
    "\n",
    "*This function should return a Series named `avgGDP` with 15 countries and their average GDP sorted in descending order.*"
   ]
  },
  {
   "cell_type": "code",
   "execution_count": 57,
   "metadata": {
    "deletable": false,
    "nbgrader": {
     "checksum": "c8c81393decebcdf753c154b71e355eb",
     "grade": false,
     "grade_id": "cell-8c3d74335c0d489a",
     "locked": false,
     "schema_version": 1,
     "solution": true
    }
   },
   "outputs": [
    {
     "data": {
      "text/plain": [
       "Country\n",
       "United States         1.536434e+13\n",
       "China                 6.348609e+12\n",
       "Japan                 5.542208e+12\n",
       "Germany               3.493025e+12\n",
       "France                2.681725e+12\n",
       "United Kingdom        2.487907e+12\n",
       "Brazil                2.189794e+12\n",
       "Italy                 2.120175e+12\n",
       "India                 1.769297e+12\n",
       "Canada                1.660647e+12\n",
       "Russian Federation    1.565459e+12\n",
       "Spain                 1.418078e+12\n",
       "Australia             1.164043e+12\n",
       "South Korea           1.106715e+12\n",
       "Iran                  4.441558e+11\n",
       "Name: avgGDP, dtype: float64"
      ]
     },
     "execution_count": 57,
     "metadata": {},
     "output_type": "execute_result"
    }
   ],
   "source": [
    "def answer_two():\n",
    "    # Competency: indexing, math fn, sorting\n",
    "    \n",
    "    # YOUR CODE HERE\n",
    "    \n",
    "    merged = answer_1c()\n",
    "    year_list = ['2006', '2007', '2008', '2009', '2010',\n",
    "                 '2011', '2012', '2013', '2014', '2015']\n",
    "    avgGDP = merged[year_list].apply(np.mean, axis = 1).rename('avgGDP').sort_values(ascending = False)\n",
    "    \n",
    "    return pd.Series(avgGDP)\n",
    "    \n",
    "    #raise NotImplementedError()\n",
    "answer_two()"
   ]
  },
  {
   "cell_type": "code",
   "execution_count": 58,
   "metadata": {
    "deletable": false,
    "editable": false,
    "nbgrader": {
     "checksum": "58c90164c238bfc4eca807cebf34d290",
     "grade": false,
     "grade_id": "cell-77189c68d6a7b389",
     "locked": true,
     "schema_version": 1,
     "solution": false
    }
   },
   "outputs": [],
   "source": [
    "your_ans = answer_two()\n",
    "\n",
    "assert isinstance(your_ans, pd.Series), \"Q2: You should return a Series. \"\n",
    "assert your_ans.name == \"avgGDP\", \"Q2: Your Series should have the correct name. \"\n",
    "\n",
    "del your_ans"
   ]
  },
  {
   "cell_type": "code",
   "execution_count": null,
   "metadata": {
    "deletable": false,
    "editable": false,
    "nbgrader": {
     "checksum": "80e179880e64442200c8312c5f0cbe18",
     "grade": true,
     "grade_id": "cell-aaaa11ef7d26f4cf",
     "locked": true,
     "points": 7,
     "schema_version": 1,
     "solution": false
    }
   },
   "outputs": [],
   "source": [
    "# Cell for autograder.\n"
   ]
  },
  {
   "cell_type": "markdown",
   "metadata": {
    "deletable": false,
    "editable": false,
    "nbgrader": {
     "checksum": "afeb8e3d18b154d58afd28bbbf0a5da2",
     "grade": false,
     "grade_id": "cell-34f1a306e4578b06",
     "locked": true,
     "schema_version": 1,
     "solution": false
    }
   },
   "source": [
    "### Question 3\n",
    "\n",
    "By how much had the GDP changed over the 10 year span for the country with the 6th largest average GDP?\n",
    "\n",
    "*This function should return a single number.*"
   ]
  },
  {
   "cell_type": "code",
   "execution_count": 62,
   "metadata": {
    "deletable": false,
    "nbgrader": {
     "checksum": "d58b225fdb258693695d0d89ed671676",
     "grade": false,
     "grade_id": "cell-7f77d099e3e0bbee",
     "locked": false,
     "schema_version": 1,
     "solution": true
    }
   },
   "outputs": [
    {
     "data": {
      "text/plain": [
       "246702696075.3999"
      ]
     },
     "execution_count": 62,
     "metadata": {},
     "output_type": "execute_result"
    }
   ],
   "source": [
    "def answer_three():\n",
    "    # Competency: indexing, broadcasting\n",
    "    \n",
    "    # YOUR CODE HERE\n",
    "    \n",
    "    merged = answer_1c()\n",
    "    change = merged.loc['United Kingdom']['2015'] - merged.loc['United Kingdom']['2006']\n",
    "    \n",
    "    return change\n",
    "    \n",
    "    #raise NotImplementedError()\n",
    "answer_three()"
   ]
  },
  {
   "cell_type": "code",
   "execution_count": null,
   "metadata": {
    "deletable": false,
    "editable": false,
    "nbgrader": {
     "checksum": "6cd0c9e8a723a1882b416688a4415a69",
     "grade": true,
     "grade_id": "cell-564dd8e5e24b0f83",
     "locked": true,
     "points": 7,
     "schema_version": 1,
     "solution": false
    }
   },
   "outputs": [],
   "source": [
    "# Cell for autograder.\n"
   ]
  },
  {
   "cell_type": "markdown",
   "metadata": {
    "deletable": false,
    "editable": false,
    "nbgrader": {
     "checksum": "3071a0a210e0d2c7d939b7a84150295b",
     "grade": false,
     "grade_id": "cell-617669111e38ca15",
     "locked": true,
     "schema_version": 1,
     "solution": false
    }
   },
   "source": [
    "### Question 4\n",
    "\n",
    "What is the mean energy supply per capita?\n",
    "\n",
    "*This function should return a single number.*"
   ]
  },
  {
   "cell_type": "code",
   "execution_count": 68,
   "metadata": {
    "deletable": false,
    "nbgrader": {
     "checksum": "4bc6b266bc23264a50f19242454f0f05",
     "grade": false,
     "grade_id": "cell-58e79d558e982eef",
     "locked": false,
     "schema_version": 1,
     "solution": true
    }
   },
   "outputs": [
    {
     "data": {
      "text/plain": [
       "157.6"
      ]
     },
     "execution_count": 68,
     "metadata": {},
     "output_type": "execute_result"
    }
   ],
   "source": [
    "def answer_four():\n",
    "    # Competency: math fn\n",
    "    \n",
    "    # YOUR CODE HERE\n",
    "    merged = answer_1c()\n",
    "    \n",
    "    #merged.iloc[:,8].mean()\n",
    "    return merged['Energy Supply per Capita'].mean()\n",
    "    # raise NotImplementedError()\n",
    "answer_four()\n",
    "\n",
    "# 157.6"
   ]
  },
  {
   "cell_type": "code",
   "execution_count": null,
   "metadata": {
    "deletable": false,
    "editable": false,
    "nbgrader": {
     "checksum": "8b85b97205c3fb6888a463b0601ee26d",
     "grade": true,
     "grade_id": "cell-30cc66180851638c",
     "locked": true,
     "points": 7,
     "schema_version": 1,
     "solution": false
    }
   },
   "outputs": [],
   "source": [
    "# Cell for autograder.\n"
   ]
  },
  {
   "cell_type": "markdown",
   "metadata": {
    "deletable": false,
    "editable": false,
    "nbgrader": {
     "checksum": "312e177f73407a2f7ff7e91507159b55",
     "grade": false,
     "grade_id": "cell-5c11ddd12fd71b3f",
     "locked": true,
     "schema_version": 1,
     "solution": false
    }
   },
   "source": [
    "### Question 5\n",
    "\n",
    "What country has the maximum % Renewable and what is the percentage?\n",
    "\n",
    "*This function should return a tuple with the name of the country and the percentage.*"
   ]
  },
  {
   "cell_type": "code",
   "execution_count": 71,
   "metadata": {
    "deletable": false,
    "nbgrader": {
     "checksum": "4240e53bd6aef78e0665e63b2a5114b9",
     "grade": false,
     "grade_id": "cell-b6824b78e74619f9",
     "locked": false,
     "schema_version": 1,
     "solution": true
    }
   },
   "outputs": [
    {
     "data": {
      "text/plain": [
       "('Brazil', 69.64803)"
      ]
     },
     "execution_count": 71,
     "metadata": {},
     "output_type": "execute_result"
    }
   ],
   "source": [
    "def answer_five():\n",
    "    # Competency: math fn\n",
    "    \n",
    "    # YOUR CODE HERE\n",
    "    \n",
    "    merged = answer_1c()\n",
    "    \n",
    "    #merged['% Renewable'].idxmax()\n",
    "    \n",
    "    return (merged['% Renewable'].idxmax(), merged['% Renewable'].max())\n",
    "    \n",
    "    #raise NotImplementedError()\n",
    "answer_five()"
   ]
  },
  {
   "cell_type": "code",
   "execution_count": 72,
   "metadata": {
    "deletable": false,
    "editable": false,
    "nbgrader": {
     "checksum": "00d0566861159f5cf2ac813e5f457f48",
     "grade": false,
     "grade_id": "cell-a038e629a987582c",
     "locked": true,
     "schema_version": 1,
     "solution": false
    }
   },
   "outputs": [],
   "source": [
    "your_ans = answer_five()\n",
    "\n",
    "assert isinstance(your_ans, tuple), \"Q5: Your function should return a tuple. \"\n",
    "\n",
    "assert isinstance(your_ans[0], str), \"Q5: The first element in your result should be the name of the country. \"\n",
    "\n",
    "del your_ans"
   ]
  },
  {
   "cell_type": "code",
   "execution_count": null,
   "metadata": {
    "deletable": false,
    "editable": false,
    "nbgrader": {
     "checksum": "346730010dc0280534c4b67a1334937a",
     "grade": true,
     "grade_id": "cell-2bd201c5c7bdd80f",
     "locked": true,
     "points": 7,
     "schema_version": 1,
     "solution": false
    }
   },
   "outputs": [],
   "source": [
    "# Cell for autograder.\n"
   ]
  },
  {
   "cell_type": "markdown",
   "metadata": {
    "deletable": false,
    "editable": false,
    "nbgrader": {
     "checksum": "6ce81368a227e39a7f2b6720097b0b4b",
     "grade": false,
     "grade_id": "cell-ddf52a85ad3d5a11",
     "locked": true,
     "schema_version": 1,
     "solution": false
    }
   },
   "source": [
    "### Question 6\n",
    "\n",
    "Create a new column that is the ratio of `Self-Citations` to total `Citations`. \n",
    "What is the maximum value for this new column, and what country has the highest ratio?\n",
    "\n",
    "*This function should return a tuple with the name of the country and the ratio.*"
   ]
  },
  {
   "cell_type": "code",
   "execution_count": 75,
   "metadata": {
    "deletable": false,
    "nbgrader": {
     "checksum": "2dd872a353160303c177e2b43a8dfef6",
     "grade": false,
     "grade_id": "cell-a4f39737f38aa53c",
     "locked": false,
     "schema_version": 1,
     "solution": true
    }
   },
   "outputs": [
    {
     "data": {
      "text/plain": [
       "('China', 0.6893126179389422)"
      ]
     },
     "execution_count": 75,
     "metadata": {},
     "output_type": "execute_result"
    }
   ],
   "source": [
    "def answer_six():\n",
    "    # Competency: math fn, broadcasting\n",
    "    \n",
    "    # YOUR CODE HERE\n",
    "    merged = answer_1c()\n",
    "    \n",
    "    merged['Ratio'] = merged['Self-citations'] / merged['Citations']\n",
    "    \n",
    "    return (merged['Ratio'].idxmax(), merged['Ratio'].max())\n",
    "    \n",
    "    #raise NotImplementedError()\n",
    "answer_six()"
   ]
  },
  {
   "cell_type": "code",
   "execution_count": 76,
   "metadata": {
    "deletable": false,
    "editable": false,
    "nbgrader": {
     "checksum": "55890dd74e5a300bb59fb5b002530754",
     "grade": false,
     "grade_id": "cell-550b3716809d3ec1",
     "locked": true,
     "schema_version": 1,
     "solution": false
    }
   },
   "outputs": [],
   "source": [
    "your_ans = answer_six()\n",
    "\n",
    "assert isinstance(your_ans, tuple), \"Q6: Your function should return a tuple. \"\n",
    "\n",
    "assert isinstance(your_ans[0], str), \"Q6: The first element in your result should be the name of the country. \"\n",
    "\n",
    "del your_ans"
   ]
  },
  {
   "cell_type": "code",
   "execution_count": null,
   "metadata": {
    "deletable": false,
    "editable": false,
    "nbgrader": {
     "checksum": "ce61afc96e6f4c0014f62a2b5478f499",
     "grade": true,
     "grade_id": "cell-b7a163e9231b88c9",
     "locked": true,
     "points": 7,
     "schema_version": 1,
     "solution": false
    }
   },
   "outputs": [],
   "source": [
    "# Cell for autograder.\n"
   ]
  },
  {
   "cell_type": "markdown",
   "metadata": {
    "deletable": false,
    "editable": false,
    "nbgrader": {
     "checksum": "de5f8c008555a7b1d0ef3a7383d4c63e",
     "grade": false,
     "grade_id": "cell-5c89296ab6f94218",
     "locked": true,
     "schema_version": 1,
     "solution": false
    }
   },
   "source": [
    "### Question 7\n",
    "\n",
    "Create a column that estimates the population using `Energy Supply` and `Energy Supply per capita`. \n",
    "What is the third most populous country according to this estimate?\n",
    "\n",
    "*This function should return the name of the country*"
   ]
  },
  {
   "cell_type": "code",
   "execution_count": 97,
   "metadata": {
    "deletable": false,
    "nbgrader": {
     "checksum": "3104e2fed6bea23088ac00c3f6a72036",
     "grade": false,
     "grade_id": "cell-9ca58137846b84d6",
     "locked": false,
     "schema_version": 1,
     "solution": true
    }
   },
   "outputs": [
    {
     "data": {
      "text/plain": [
       "'United States'"
      ]
     },
     "execution_count": 97,
     "metadata": {},
     "output_type": "execute_result"
    }
   ],
   "source": [
    "def answer_seven():\n",
    "    # Competency: Broadcasting, sorting\n",
    "    \n",
    "    # YOUR CODE HERE\n",
    "    \n",
    "    merged = answer_1c()\n",
    "    merged['Population'] = merged['Energy Supply'] / merged['Energy Supply per Capita']\n",
    "    #merged[merged['Population'] == merged['Population'].nlargest(3)[2]].index\n",
    "    \n",
    "    return merged[merged['Population'] == merged['Population'].nlargest(3)[2]].index[0]\n",
    "    #raise NotImplementedError()\n",
    "answer_seven()"
   ]
  },
  {
   "cell_type": "code",
   "execution_count": 98,
   "metadata": {
    "deletable": false,
    "editable": false,
    "nbgrader": {
     "checksum": "a3e22679feefb1ccecb30b5871ef8fcb",
     "grade": false,
     "grade_id": "cell-3dbc5f28513ede29",
     "locked": true,
     "schema_version": 1,
     "solution": false
    }
   },
   "outputs": [],
   "source": [
    "assert isinstance(answer_seven(), str), \"Q7: Your function should return the name of the country. \""
   ]
  },
  {
   "cell_type": "code",
   "execution_count": null,
   "metadata": {
    "deletable": false,
    "editable": false,
    "nbgrader": {
     "checksum": "101f26c322603535c16844a6c72d858b",
     "grade": true,
     "grade_id": "cell-3f3620c88df08b20",
     "locked": true,
     "points": 7,
     "schema_version": 1,
     "solution": false
    }
   },
   "outputs": [],
   "source": [
    "# Cell for autograder.\n"
   ]
  },
  {
   "cell_type": "markdown",
   "metadata": {
    "deletable": false,
    "editable": false,
    "nbgrader": {
     "checksum": "e9e5d0aa0c882f5c06636302ce57a3cb",
     "grade": false,
     "grade_id": "cell-2065207e66e5ec01",
     "locked": true,
     "schema_version": 1,
     "solution": false
    }
   },
   "source": [
    "### Question 8\n",
    "\n",
    "Create a column that estimates the number of citable documents per person. \n",
    "What is the correlation between the number of citable documents per capita and the energy supply per capita? Use the `.corr()` method, (Pearson's correlation).\n",
    "\n",
    "*This function should return a single number.*"
   ]
  },
  {
   "cell_type": "code",
   "execution_count": 192,
   "metadata": {
    "deletable": false,
    "nbgrader": {
     "checksum": "17cfb47907ffa62d11b76d95ca09684f",
     "grade": false,
     "grade_id": "cell-033679ea456bfb9d",
     "locked": false,
     "schema_version": 1,
     "solution": true
    }
   },
   "outputs": [
    {
     "data": {
      "text/plain": [
       "0.7940010435442943"
      ]
     },
     "execution_count": 192,
     "metadata": {},
     "output_type": "execute_result"
    }
   ],
   "source": [
    "def answer_eight():\n",
    "    # Competency: Broadcasting, math fn, correlation, visualization\n",
    "    \n",
    "    # YOUR CODE HERE\n",
    "    \n",
    "    merged = answer_1c()\n",
    "    merged['Population'] = merged['Energy Supply'] / merged['Energy Supply per Capita']\n",
    "    merged['Citable Documents per Capita'] = merged['Citable documents'] / merged['Population']\n",
    "    #['Citable documents', 'Energy Supply per Capita']\n",
    "    #merged.corr(method = 'pearson')\n",
    "    #return merged\n",
    "    #return merged[['Citable documents', 'Energy Supply per Capita']].corr(method = 'pearson').iloc[0,1]\n",
    "    return merged.corr(method = 'pearson').loc['Citable Documents per Capita']['Energy Supply per Capita']\n",
    "\n",
    "    #raise NotImplementedError()\n",
    "answer_eight()"
   ]
  },
  {
   "cell_type": "code",
   "execution_count": 115,
   "metadata": {
    "deletable": false,
    "editable": false,
    "nbgrader": {
     "checksum": "fe2ef12d581b29f685fd2f42e54855fb",
     "grade": false,
     "grade_id": "cell-1a57f3667d2225a3",
     "locked": true,
     "schema_version": 1,
     "solution": false
    }
   },
   "outputs": [],
   "source": [
    "assert -1 <= answer_eight() <= 1, \"Q8: A valid correlation should be between -1 to 1. \""
   ]
  },
  {
   "cell_type": "code",
   "execution_count": null,
   "metadata": {
    "deletable": false,
    "editable": false,
    "nbgrader": {
     "checksum": "a9facd761211255a3bff4d51051e9583",
     "grade": true,
     "grade_id": "cell-3cb5c699065a4a20",
     "locked": true,
     "points": 7,
     "schema_version": 1,
     "solution": false
    }
   },
   "outputs": [],
   "source": [
    "# Cell for autograder.\n"
   ]
  },
  {
   "cell_type": "markdown",
   "metadata": {
    "deletable": false,
    "editable": false,
    "nbgrader": {
     "checksum": "a842f62d243b74dbb9e3c229578215ff",
     "grade": false,
     "grade_id": "cell-ad09765e29b91157",
     "locked": true,
     "schema_version": 1,
     "solution": false
    }
   },
   "source": [
    "### Question 9\n",
    "\n",
    "Create a new column with a 1 if a country's `% Renewable` value is **at or above** the median, and a 0 otherwise for all countries in the top 15. \n",
    "\n",
    "*This function should return a series named `HighRenew` whose index is the country name sorted in ascending order of rank.*"
   ]
  },
  {
   "cell_type": "code",
   "execution_count": 122,
   "metadata": {
    "deletable": false,
    "nbgrader": {
     "checksum": "570a11647e2ef1865ec0f1cb30b34910",
     "grade": false,
     "grade_id": "cell-0fdf60e64bf1a4f9",
     "locked": false,
     "schema_version": 1,
     "solution": true
    }
   },
   "outputs": [
    {
     "data": {
      "text/plain": [
       "Country\n",
       "China                 1\n",
       "United States         0\n",
       "Japan                 0\n",
       "United Kingdom        0\n",
       "Russian Federation    1\n",
       "Canada                1\n",
       "Germany               1\n",
       "India                 0\n",
       "France                1\n",
       "South Korea           0\n",
       "Italy                 1\n",
       "Spain                 1\n",
       "Iran                  0\n",
       "Australia             0\n",
       "Brazil                1\n",
       "Name: HighRenew, dtype: object"
      ]
     },
     "execution_count": 122,
     "metadata": {},
     "output_type": "execute_result"
    }
   ],
   "source": [
    "def answer_nine():\n",
    "    # Competency: df querying, math fn, variable encoding\n",
    "    # YOUR CODE HERE\n",
    "    \n",
    "    merged = answer_1c()\n",
    "    merged['HighRenew'] = None\n",
    "    merged['HighRenew'][merged['% Renewable'] >= merged['% Renewable'].median()] = 1\n",
    "    merged['HighRenew'][merged['% Renewable'] < merged['% Renewable'].median()] = 0\n",
    "    \n",
    "    HighRenew = merged['HighRenew']\n",
    "    return pd.Series(HighRenew)\n",
    "    #raise NotImplementedError()\n",
    "answer_nine()"
   ]
  },
  {
   "cell_type": "code",
   "execution_count": 117,
   "metadata": {
    "deletable": false,
    "editable": false,
    "nbgrader": {
     "checksum": "a2a6b0fdddf83ffa73347b7001e4caa7",
     "grade": false,
     "grade_id": "cell-97a7fd73985febad",
     "locked": true,
     "schema_version": 1,
     "solution": false
    }
   },
   "outputs": [],
   "source": [
    "assert isinstance(answer_nine(), pd.Series), \"Q9: Your function should return a Series. \""
   ]
  },
  {
   "cell_type": "code",
   "execution_count": null,
   "metadata": {
    "deletable": false,
    "editable": false,
    "nbgrader": {
     "checksum": "92b2cd08d2e39ed3a2f6b83b56fb9c6e",
     "grade": true,
     "grade_id": "cell-b29a631fd9a7730f",
     "locked": true,
     "points": 7,
     "schema_version": 1,
     "solution": false
    }
   },
   "outputs": [],
   "source": [
    "# Cell for autograder.\n"
   ]
  },
  {
   "cell_type": "markdown",
   "metadata": {
    "deletable": false,
    "editable": false,
    "nbgrader": {
     "checksum": "733295eb347a822441628361d81d5ba4",
     "grade": false,
     "grade_id": "cell-677c51ba711c3af7",
     "locked": true,
     "schema_version": 1,
     "solution": false
    }
   },
   "source": [
    "### Question 10\n",
    "\n",
    "Use the following dictionary to group the `Countries` by `Continent`, then create a DataFrame that displays the sample size (the number of countries in each continent bin), and the sum, mean, and *population* standard deviation of the estimated population for each country. \n",
    "\n",
    "```python\n",
    "ContinentDict  = {'China':'Asia', \n",
    "                  'United States':'North America', \n",
    "                  'Japan':'Asia', \n",
    "                  'United Kingdom':'Europe', \n",
    "                  'Russian Federation':'Europe', \n",
    "                  'Canada':'North America', \n",
    "                  'Germany':'Europe', \n",
    "                  'India':'Asia',\n",
    "                  'France':'Europe', \n",
    "                  'South Korea':'Asia', \n",
    "                  'Italy':'Europe', \n",
    "                  'Spain':'Europe', \n",
    "                  'Iran':'Asia',\n",
    "                  'Australia':'Australia', \n",
    "                  'Brazil':'South America'}\n",
    "```\n",
    "\n",
    "*This function should return a DataFrame with index named Continent `['Asia', 'Australia', 'Europe', 'North America', 'South America']` and columns `['size', 'sum', 'mean', 'std']`*\n",
    "\n",
    "**Special Note: make sure you are indeed calculating the *population* std rather than the sample std. When in doubt, carefully check the documentation of the function you plan to use. Don't take things for granted.**"
   ]
  },
  {
   "cell_type": "code",
   "execution_count": 149,
   "metadata": {
    "deletable": false,
    "nbgrader": {
     "checksum": "068007bbaa3125e78bfc54d0ffca8322",
     "grade": false,
     "grade_id": "cell-a5e0c0df27304f98",
     "locked": false,
     "schema_version": 1,
     "solution": true
    }
   },
   "outputs": [
    {
     "data": {
      "text/html": [
       "<div>\n",
       "<style scoped>\n",
       "    .dataframe tbody tr th:only-of-type {\n",
       "        vertical-align: middle;\n",
       "    }\n",
       "\n",
       "    .dataframe tbody tr th {\n",
       "        vertical-align: top;\n",
       "    }\n",
       "\n",
       "    .dataframe thead th {\n",
       "        text-align: right;\n",
       "    }\n",
       "</style>\n",
       "<table border=\"1\" class=\"dataframe\">\n",
       "  <thead>\n",
       "    <tr style=\"text-align: right;\">\n",
       "      <th></th>\n",
       "      <th>size</th>\n",
       "      <th>sum</th>\n",
       "      <th>mean</th>\n",
       "      <th>std</th>\n",
       "    </tr>\n",
       "    <tr>\n",
       "      <th>Continent</th>\n",
       "      <th></th>\n",
       "      <th></th>\n",
       "      <th></th>\n",
       "      <th></th>\n",
       "    </tr>\n",
       "  </thead>\n",
       "  <tbody>\n",
       "    <tr>\n",
       "      <th>Asia</th>\n",
       "      <td>5.0</td>\n",
       "      <td>2.898666e+09</td>\n",
       "      <td>5.797333e+08</td>\n",
       "      <td>6.790979e+08</td>\n",
       "    </tr>\n",
       "    <tr>\n",
       "      <th>Australia</th>\n",
       "      <td>1.0</td>\n",
       "      <td>2.331602e+07</td>\n",
       "      <td>2.331602e+07</td>\n",
       "      <td>NaN</td>\n",
       "    </tr>\n",
       "    <tr>\n",
       "      <th>Europe</th>\n",
       "      <td>6.0</td>\n",
       "      <td>4.579297e+08</td>\n",
       "      <td>7.632161e+07</td>\n",
       "      <td>3.464767e+07</td>\n",
       "    </tr>\n",
       "    <tr>\n",
       "      <th>North America</th>\n",
       "      <td>2.0</td>\n",
       "      <td>3.528552e+08</td>\n",
       "      <td>1.764276e+08</td>\n",
       "      <td>1.996696e+08</td>\n",
       "    </tr>\n",
       "    <tr>\n",
       "      <th>South America</th>\n",
       "      <td>1.0</td>\n",
       "      <td>2.059153e+08</td>\n",
       "      <td>2.059153e+08</td>\n",
       "      <td>NaN</td>\n",
       "    </tr>\n",
       "  </tbody>\n",
       "</table>\n",
       "</div>"
      ],
      "text/plain": [
       "               size           sum          mean           std\n",
       "Continent                                                    \n",
       "Asia            5.0  2.898666e+09  5.797333e+08  6.790979e+08\n",
       "Australia       1.0  2.331602e+07  2.331602e+07           NaN\n",
       "Europe          6.0  4.579297e+08  7.632161e+07  3.464767e+07\n",
       "North America   2.0  3.528552e+08  1.764276e+08  1.996696e+08\n",
       "South America   1.0  2.059153e+08  2.059153e+08           NaN"
      ]
     },
     "execution_count": 149,
     "metadata": {},
     "output_type": "execute_result"
    }
   ],
   "source": [
    "def answer_ten():\n",
    "    # Competency: mapping, groupby, agg\n",
    "    \n",
    "    # YOUR CODE HERE\n",
    "    \n",
    "    merged = answer_1c()\n",
    "    \n",
    "    ContinentDict  = {'China':'Asia', \n",
    "                  'United States':'North America', \n",
    "                  'Japan':'Asia', \n",
    "                  'United Kingdom':'Europe', \n",
    "                  'Russian Federation':'Europe', \n",
    "                  'Canada':'North America', \n",
    "                  'Germany':'Europe', \n",
    "                  'India':'Asia',\n",
    "                  'France':'Europe', \n",
    "                  'South Korea':'Asia', \n",
    "                  'Italy':'Europe', \n",
    "                  'Spain':'Europe', \n",
    "                  'Iran':'Asia',\n",
    "                  'Australia':'Australia', \n",
    "                  'Brazil':'South America'}\n",
    "    \n",
    "    merged['Continent'] = None\n",
    "    merged['Population'] = merged['Energy Supply'] / merged['Energy Supply per Capita']\n",
    "    \n",
    "    # Assign mapped values\n",
    "    \n",
    "    for i in range(len(merged)):\n",
    "        merged.iloc[i,20] = ContinentDict[merged.index[i]]\n",
    "    ans_df = merged.groupby('Continent').agg([np.size, np.sum, np.mean, np.std])['Population']\n",
    "    \n",
    "    return ans_df\n",
    "    \n",
    "    #raise NotImplementedError()\n",
    "answer_ten()"
   ]
  },
  {
   "cell_type": "code",
   "execution_count": 150,
   "metadata": {
    "deletable": false,
    "editable": false,
    "nbgrader": {
     "checksum": "51262fdf205ec44cf18d23f2d07b92f1",
     "grade": false,
     "grade_id": "cell-14d6204e5913ba83",
     "locked": true,
     "schema_version": 1,
     "solution": false
    }
   },
   "outputs": [],
   "source": [
    "your_ans = answer_ten()\n",
    "\n",
    "assert isinstance(your_ans, pd.DataFrame), \"Q10: Your function should return a DataFrame. \"\n",
    "\n",
    "assert your_ans.shape[0] == 5, \"Q10: You have a incorrect number of rows. \"\n",
    "\n",
    "assert your_ans.shape[1] == 4, \"Q10: You have a incorrect number of columns. \"\n",
    "\n",
    "assert list(your_ans.index) == ['Asia', 'Australia', 'Europe', 'North America', 'South America'], \"Q10: You have a wrong index. \"\n",
    "\n",
    "assert list(your_ans.columns) == ['size', 'sum', 'mean', 'std'], \"Q10: You have wrong column names. \"\n",
    "\n",
    "assert np.isclose(your_ans.loc[\"Asia\", \"sum\"], 2898666386.6106005, rtol=0.0, atol=1e-5), \"Q10: The sum value for Asia should be around 2898666386.6106005. \"\n",
    "\n",
    "assert np.isclose(your_ans.loc[\"Europe\", \"mean\"], 76321611.20272864, rtol=0.0, atol=1e-5), \"Q10: The mean value for Europe should be around 76321611.20272864. \"\n",
    "\n",
    "assert np.isnan(your_ans.loc[\"South America\", \"std\"]), \"Q10: South America should have a NaN std. \"\n",
    "\n",
    "del your_ans"
   ]
  },
  {
   "cell_type": "code",
   "execution_count": null,
   "metadata": {
    "deletable": false,
    "editable": false,
    "nbgrader": {
     "checksum": "167d0ff7ff61a2a86d15159a1da2d6ae",
     "grade": true,
     "grade_id": "cell-18d1a07971b25743",
     "locked": true,
     "points": 7,
     "schema_version": 1,
     "solution": false
    }
   },
   "outputs": [],
   "source": [
    "# Cell for autograder.\n"
   ]
  },
  {
   "cell_type": "markdown",
   "metadata": {
    "deletable": false,
    "editable": false,
    "nbgrader": {
     "checksum": "17910b9dda92972737b6c9d26c96f42e",
     "grade": false,
     "grade_id": "cell-fa26f5c1eac39c6c",
     "locked": true,
     "schema_version": 1,
     "solution": false
    }
   },
   "source": [
    "### Question 11\n",
    "Cut `% Renewable` into 5 bins. Group the top 15 countries by `Continent` as well as these new `% Renewable` bins. How many countries are there in each of these groups?\n",
    "\n",
    "*This function should return a Series with a MultiIndex of `Continent`, then the bins for `% Renewable`. Do not include groups with no countries.*"
   ]
  },
  {
   "cell_type": "code",
   "execution_count": 172,
   "metadata": {
    "deletable": false,
    "nbgrader": {
     "checksum": "f976438d990895f1d877807a1d67de26",
     "grade": false,
     "grade_id": "cell-2ecd9a4076abd8f0",
     "locked": false,
     "schema_version": 1,
     "solution": true
    }
   },
   "outputs": [
    {
     "data": {
      "text/plain": [
       "Continent      % Renewable     \n",
       "Asia           (2.212, 15.753]     4\n",
       "               (15.753, 29.227]    1\n",
       "Australia      (2.212, 15.753]     1\n",
       "Europe         (2.212, 15.753]     1\n",
       "               (15.753, 29.227]    3\n",
       "               (29.227, 42.701]    2\n",
       "North America  (2.212, 15.753]     1\n",
       "               (56.174, 69.648]    1\n",
       "South America  (56.174, 69.648]    1\n",
       "dtype: int64"
      ]
     },
     "execution_count": 172,
     "metadata": {},
     "output_type": "execute_result"
    }
   ],
   "source": [
    "def answer_eleven():\n",
    "    # Competency: cut, groupby, math fn\n",
    "    \n",
    "    # YOUR CODE HERE\n",
    "    \n",
    "    merged = answer_1c()\n",
    "    merged['Continent'] = None\n",
    "    ContinentDict  = {'China':'Asia', \n",
    "                  'United States':'North America', \n",
    "                  'Japan':'Asia', \n",
    "                  'United Kingdom':'Europe', \n",
    "                  'Russian Federation':'Europe', \n",
    "                  'Canada':'North America', \n",
    "                  'Germany':'Europe', \n",
    "                  'India':'Asia',\n",
    "                  'France':'Europe', \n",
    "                  'South Korea':'Asia', \n",
    "                  'Italy':'Europe', \n",
    "                  'Spain':'Europe', \n",
    "                  'Iran':'Asia',\n",
    "                  'Australia':'Australia', \n",
    "                  'Brazil':'South America'}\n",
    "    for i in range(len(merged)):\n",
    "        merged.iloc[i,20] = ContinentDict[merged.index[i]]\n",
    "    \n",
    "    merged['% Renewable'] = pd.cut(x=merged['% Renewable'], bins=5)\n",
    "    list_index = ['Continent', '% Renewable']\n",
    "    merged = merged[list_index]\n",
    "#     merged = merged.set_index([list_index])\n",
    "#     merged.groupby(list_index).agg([np.size])\n",
    "    return pd.Series(merged.groupby(list_index).size())#.agg({\"Continent\":np.size}).dropna()\n",
    "    #raise NotImplementedError()\n",
    "answer_eleven()"
   ]
  },
  {
   "cell_type": "code",
   "execution_count": 173,
   "metadata": {
    "deletable": false,
    "editable": false,
    "nbgrader": {
     "checksum": "a2e49e99e77c2ce93707a5ed158a5089",
     "grade": false,
     "grade_id": "cell-6428e0b8c4aa94bb",
     "locked": true,
     "schema_version": 1,
     "solution": false
    }
   },
   "outputs": [],
   "source": [
    "your_ans = answer_eleven()\n",
    "\n",
    "assert isinstance(your_ans, pd.Series), \"Q11: Your function should return a Series. \"\n",
    "\n",
    "assert len(your_ans) == 9, \"Q11: Your answer should have 9 rows. \"\n",
    "\n",
    "del your_ans"
   ]
  },
  {
   "cell_type": "code",
   "execution_count": null,
   "metadata": {
    "deletable": false,
    "editable": false,
    "nbgrader": {
     "checksum": "6b825cff3206e0bbd764ca50d8378be5",
     "grade": true,
     "grade_id": "cell-6c665602d6babab9",
     "locked": true,
     "points": 7,
     "schema_version": 1,
     "solution": false
    }
   },
   "outputs": [],
   "source": [
    "# Cell for autograder.\n"
   ]
  },
  {
   "cell_type": "markdown",
   "metadata": {
    "deletable": false,
    "editable": false,
    "nbgrader": {
     "checksum": "67e506be61f72a1f53cbf2f8d1ac9b34",
     "grade": false,
     "grade_id": "cell-4209a10d8f208739",
     "locked": true,
     "schema_version": 1,
     "solution": false
    }
   },
   "source": [
    "### Question 12\n",
    "\n",
    "Write a function to display the estimated population as a string with thousands separator (using commas). Use all significant digits, namely, do not round the results.\n",
    "\n",
    "e.g. 12345678.90 -> 12,345,678.90\n",
    "\n",
    "*This function should return a series `PopEst` whose index is the country name and whose values are the population estimate string*\n",
    "\n",
    "**Special Note: make sure your `Energy Supply` column is of a numerical type rather than \"object\".**"
   ]
  },
  {
   "cell_type": "code",
   "execution_count": 193,
   "metadata": {
    "deletable": false,
    "nbgrader": {
     "checksum": "12a09eaee4b1c11afc0fb40ac3143f69",
     "grade": false,
     "grade_id": "cell-58eb0ee0921d93fb",
     "locked": false,
     "schema_version": 1,
     "solution": true
    }
   },
   "outputs": [
    {
     "data": {
      "text/plain": [
       "Country\n",
       "China                 1,367,645,161.2903225\n",
       "United States          317,615,384.61538464\n",
       "Japan                  127,409,395.97315437\n",
       "United Kingdom         63,870,967.741935484\n",
       "Russian Federation            143,500,000.0\n",
       "Canada                  35,239,864.86486486\n",
       "Germany                 80,369,696.96969697\n",
       "India                 1,276,730,769.2307692\n",
       "France                  63,837,349.39759036\n",
       "South Korea            49,805,429.864253394\n",
       "Italy                  59,908,256.880733944\n",
       "Spain                    46,443,396.2264151\n",
       "Iran                    77,075,630.25210084\n",
       "Australia              23,316,017.316017315\n",
       "Brazil                 205,915,254.23728815\n",
       "Name: PopEst, dtype: object"
      ]
     },
     "execution_count": 193,
     "metadata": {},
     "output_type": "execute_result"
    }
   ],
   "source": [
    "def answer_twelve():\n",
    "    # Competency: lambdas, format\n",
    "    \n",
    "    # YOUR CODE HERE\n",
    "    \n",
    "    merged = answer_1c()\n",
    "    merged['PopEst'] = merged['Energy Supply'] / merged['Energy Supply per Capita']\n",
    "    PopEst = merged['PopEst'].apply(lambda x: format(x, ','))\n",
    "    return PopEst\n",
    "    #raise NotImplementedError()\n",
    "answer_twelve()    "
   ]
  },
  {
   "cell_type": "code",
   "execution_count": 194,
   "metadata": {
    "deletable": false,
    "editable": false,
    "nbgrader": {
     "checksum": "27fc9cb7be8fb531828bc7ef661ea308",
     "grade": false,
     "grade_id": "cell-a9ae4d949ef3b1cf",
     "locked": true,
     "schema_version": 1,
     "solution": false
    }
   },
   "outputs": [],
   "source": [
    "your_ans = answer_twelve()\n",
    "\n",
    "assert isinstance(your_ans, pd.Series), \"Q12: Your function should return a Series. \"\n",
    "\n",
    "assert len(your_ans) == 15, \"Q12: There should be 15 countries. \"\n",
    "\n",
    "del your_ans"
   ]
  },
  {
   "cell_type": "code",
   "execution_count": null,
   "metadata": {
    "deletable": false,
    "editable": false,
    "nbgrader": {
     "checksum": "7a6e4323213a73ce27e9f98443be2fc3",
     "grade": true,
     "grade_id": "cell-10fee7228cf973f6",
     "locked": true,
     "points": 7,
     "schema_version": 1,
     "solution": false
    }
   },
   "outputs": [],
   "source": [
    "# Cell for autograder.\n"
   ]
  },
  {
   "cell_type": "markdown",
   "metadata": {
    "deletable": false,
    "editable": false,
    "nbgrader": {
     "checksum": "61562b9b667bd5efbcec0dcd7becbfaa",
     "grade": false,
     "grade_id": "cell-998b62d4f390ef15",
     "locked": true,
     "schema_version": 1,
     "solution": false
    }
   },
   "source": [
    "### Optional\n",
    "\n",
    "Use the built in function `plot_optional()` to see an example visualization."
   ]
  },
  {
   "cell_type": "code",
   "execution_count": 195,
   "metadata": {
    "deletable": false,
    "editable": false,
    "nbgrader": {
     "checksum": "23b2a0bde95cecf74bc0602152a51170",
     "grade": false,
     "grade_id": "cell-741fd55ea57cd40a",
     "locked": true,
     "schema_version": 1,
     "solution": false
    }
   },
   "outputs": [
    {
     "name": "stdout",
     "output_type": "stream",
     "text": [
      "This is an example of a visualization that can be created to help understand the data. This is a bubble chart showing % Renewable vs. Rank. The size of the bubble corresponds to the countries' 2014 GDP, and the color corresponds to the continent.\n"
     ]
    },
    {
     "data": {
      "image/png": "[encoded data removed]",
      "text/plain": [
       "<Figure size 1152x432 with 1 Axes>"
      ]
     },
     "metadata": {
      "needs_background": "light"
     },
     "output_type": "display_data"
    }
   ],
   "source": [
    "def plot_optional():\n",
    "    import matplotlib as plt\n",
    "    %matplotlib inline\n",
    "    Top15 = answer_1c()\n",
    "    ax = Top15.plot(x='Rank', y='% Renewable', kind='scatter', \n",
    "                    c=['#e41a1c','#377eb8','#e41a1c','#4daf4a','#4daf4a','#377eb8','#4daf4a','#e41a1c',\n",
    "                       '#4daf4a','#e41a1c','#4daf4a','#4daf4a','#e41a1c','#dede00','#ff7f00'], \n",
    "                    xticks=range(1,16), s=6*Top15['2014']/10**10, alpha=.75, figsize=[16,6]);\n",
    "\n",
    "    for i, txt in enumerate(Top15.index):\n",
    "        ax.annotate(txt, [Top15['Rank'][i], Top15['% Renewable'][i]], ha='center')\n",
    "\n",
    "    print(\"This is an example of a visualization that can be created to help understand the data. \\\n",
    "This is a bubble chart showing % Renewable vs. Rank. The size of the bubble corresponds to the countries' \\\n",
    "2014 GDP, and the color corresponds to the continent.\")\n",
    "    \n",
    "plot_optional()"
   ]
  }
 ],
 "metadata": {
  "anaconda-cloud": {},
  "coursera": {
   "schema_names": [
    "mads_data_manipulation_v2_assignment3"
   ]
  },
  "kernelspec": {
   "display_name": "Python 3",
   "language": "python",
   "name": "python3"
  },
  "language_info": {
   "codemirror_mode": {
    "name": "ipython",
    "version": 3
   },
   "file_extension": ".py",
   "mimetype": "text/x-python",
   "name": "python",
   "nbconvert_exporter": "python",
   "pygments_lexer": "ipython3",
   "version": "3.8.3"
  }
 },
 "nbformat": 4,
 "nbformat_minor": 1
}
