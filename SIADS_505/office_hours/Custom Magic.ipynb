{
 "cells": [
  {
   "cell_type": "code",
   "execution_count": 1,
   "metadata": {},
   "outputs": [],
   "source": [
    "from IPython.core.magic import (register_line_magic, register_cell_magic,\n",
    "                                register_line_cell_magic)\n",
    "\n",
    "@register_line_magic\n",
    "def lmagic(line):\n",
    "    \"my line magic\"\n",
    "    return line\n",
    "\n",
    "@register_cell_magic\n",
    "def cmagic(line, cell):\n",
    "    \"my cell magic\"\n",
    "    return line, cell\n",
    "\n",
    "@register_line_cell_magic\n",
    "def lcmagic(line, cell=None):\n",
    "    \"Magic that works both as %lcmagic and as %%lcmagic\"\n",
    "    if cell is None:\n",
    "        print(\"Called as line magic\")\n",
    "        return line\n",
    "    else:\n",
    "        print(\"Called as cell magic\")\n",
    "        return line, cell\n",
    "\n",
    "# In an interactive session, we need to delete these to avoid\n",
    "# name conflicts for automagic to work on line magics.\n",
    "del lmagic, lcmagic"
   ]
  },
  {
   "cell_type": "code",
   "execution_count": 2,
   "metadata": {},
   "outputs": [],
   "source": [
    "# This code can be put in any Python module, it does not require IPython\n",
    "# itself to be running already.  It only creates the magics subclass but\n",
    "# doesn't instantiate it yet.\n",
    "from __future__ import print_function\n",
    "from IPython.core.magic import (Magics, magics_class, line_magic,\n",
    "                                cell_magic, line_cell_magic)\n",
    "\n",
    "# The class MUST call this class decorator at creation time\n",
    "@magics_class\n",
    "class MyMagics(Magics):\n",
    "\n",
    "    @line_magic\n",
    "    def lmagic(self, line):\n",
    "        \"my line magic\"\n",
    "        print(\"Full access to the main IPython object:\", self.shell)\n",
    "        print(\"Variables in the user namespace:\", list(self.shell.user_ns.keys()))\n",
    "        return line\n",
    "\n",
    "    @cell_magic\n",
    "    def cmagic(self, line, cell):\n",
    "        \"my cell magic\"\n",
    "        return line, cell\n",
    "\n",
    "    @line_cell_magic\n",
    "    def lcmagic(self, line, cell=None):\n",
    "        \"Magic that works both as %lcmagic and as %%lcmagic\"\n",
    "        if cell is None:\n",
    "            print(\"Called as line magic\")\n",
    "            return line\n",
    "        else:\n",
    "            print(\"Called as cell magic\")\n",
    "            return line, cell"
   ]
  },
  {
   "cell_type": "code",
   "execution_count": 3,
   "metadata": {},
   "outputs": [],
   "source": [
    "# In order to actually use these magics, you must register them with a\n",
    "# running IPython.\n",
    "\n",
    "def load_ipython_extension(ipython):\n",
    "    \"\"\"\n",
    "    Any module file that define a function named `load_ipython_extension`\n",
    "    can be loaded via `%load_ext module.path` or be configured to be\n",
    "    autoloaded by IPython at startup time.\n",
    "    \"\"\"\n",
    "    # You can register the class itself without instantiating it.  IPython will\n",
    "    # call the default constructor on it.\n",
    "    ipython.register_magics(MyMagics)"
   ]
  },
  {
   "cell_type": "code",
   "execution_count": 4,
   "metadata": {},
   "outputs": [],
   "source": [
    "@magics_class\n",
    "class StatefulMagics(Magics):\n",
    "    \"Magics that hold additional state\"\n",
    "\n",
    "    def __init__(self, shell, data):\n",
    "        # You must call the parent constructor\n",
    "        super(StatefulMagics, self).__init__(shell)\n",
    "        self.data = data\n",
    "\n",
    "    # etc...\n",
    "\n",
    "def load_ipython_extension(ipython):\n",
    "    \"\"\"\n",
    "    Any module file that define a function named `load_ipython_extension`\n",
    "    can be loaded via `%load_ext module.path` or be configured to be\n",
    "    autoloaded by IPython at startup time.\n",
    "    \"\"\"\n",
    "    # This class must then be registered with a manually created instance,\n",
    "    # since its constructor has different arguments from the default:\n",
    "    magics = StatefulMagics(ipython, some_data)\n",
    "    ipython.register_magics(magics)"
   ]
  },
  {
   "cell_type": "code",
   "execution_count": null,
   "metadata": {},
   "outputs": [],
   "source": []
  },
  {
   "cell_type": "code",
   "execution_count": null,
   "metadata": {},
   "outputs": [],
   "source": []
  }
 ],
 "metadata": {
  "kernelspec": {
   "display_name": "Python 3",
   "language": "python",
   "name": "python3"
  },
  "language_info": {
   "codemirror_mode": {
    "name": "ipython",
    "version": 3
   },
   "file_extension": ".py",
   "mimetype": "text/x-python",
   "name": "python",
   "nbconvert_exporter": "python",
   "pygments_lexer": "ipython3",
   "version": "3.8.3"
  }
 },
 "nbformat": 4,
 "nbformat_minor": 4
}
